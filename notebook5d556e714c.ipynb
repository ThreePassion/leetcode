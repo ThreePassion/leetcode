{
 "cells": [
  {
   "cell_type": "code",
   "execution_count": 1,
   "id": "c97ff2e2",
   "metadata": {
    "execution": {
     "iopub.execute_input": "2022-10-09T15:37:02.464249Z",
     "iopub.status.busy": "2022-10-09T15:37:02.463236Z",
     "iopub.status.idle": "2022-10-09T15:37:04.773419Z",
     "shell.execute_reply": "2022-10-09T15:37:04.772305Z"
    },
    "papermill": {
     "duration": 2.31633,
     "end_time": "2022-10-09T15:37:04.775889",
     "exception": false,
     "start_time": "2022-10-09T15:37:02.459559",
     "status": "completed"
    },
    "tags": []
   },
   "outputs": [
    {
     "name": "stdout",
     "output_type": "stream",
     "text": [
      "Cloning into 'Swin-Transformer'...\r\n",
      "remote: Enumerating objects: 381, done.\u001b[K\r\n",
      "remote: Counting objects: 100% (114/114), done.\u001b[K\r\n",
      "remote: Compressing objects: 100% (82/82), done.\u001b[K\r\n",
      "remote: Total 381 (delta 65), reused 66 (delta 31), pack-reused 267\u001b[K\r\n",
      "Receiving objects: 100% (381/381), 1.05 MiB | 2.87 MiB/s, done.\r\n",
      "Resolving deltas: 100% (215/215), done.\r\n"
     ]
    }
   ],
   "source": [
    "!git clone https://github.com/microsoft/Swin-Transformer.git"
   ]
  },
  {
   "cell_type": "code",
   "execution_count": 2,
   "id": "9e102b99",
   "metadata": {
    "execution": {
     "iopub.execute_input": "2022-10-09T15:37:04.782364Z",
     "iopub.status.busy": "2022-10-09T15:37:04.781411Z",
     "iopub.status.idle": "2022-10-09T15:37:05.735322Z",
     "shell.execute_reply": "2022-10-09T15:37:05.734036Z"
    },
    "papermill": {
     "duration": 0.959597,
     "end_time": "2022-10-09T15:37:05.737894",
     "exception": false,
     "start_time": "2022-10-09T15:37:04.778297",
     "status": "completed"
    },
    "tags": []
   },
   "outputs": [],
   "source": [
    "! cd ../input/datacasia1"
   ]
  },
  {
   "cell_type": "code",
   "execution_count": null,
   "id": "a9853219",
   "metadata": {
    "papermill": {
     "duration": 0.001794,
     "end_time": "2022-10-09T15:37:05.741849",
     "exception": false,
     "start_time": "2022-10-09T15:37:05.740055",
     "status": "completed"
    },
    "tags": []
   },
   "outputs": [],
   "source": []
  },
  {
   "cell_type": "code",
   "execution_count": 3,
   "id": "9599f5b2",
   "metadata": {
    "execution": {
     "iopub.execute_input": "2022-10-09T15:37:05.748851Z",
     "iopub.status.busy": "2022-10-09T15:37:05.748062Z",
     "iopub.status.idle": "2022-10-09T15:37:06.832865Z",
     "shell.execute_reply": "2022-10-09T15:37:06.831554Z"
    },
    "papermill": {
     "duration": 1.091011,
     "end_time": "2022-10-09T15:37:06.835404",
     "exception": false,
     "start_time": "2022-10-09T15:37:05.744393",
     "status": "completed"
    },
    "tags": []
   },
   "outputs": [],
   "source": [
    "! cd "
   ]
  }
 ],
 "metadata": {
  "kernelspec": {
   "display_name": "Python 3",
   "language": "python",
   "name": "python3"
  },
  "language_info": {
   "codemirror_mode": {
    "name": "ipython",
    "version": 3
   },
   "file_extension": ".py",
   "mimetype": "text/x-python",
   "name": "python",
   "nbconvert_exporter": "python",
   "pygments_lexer": "ipython3",
   "version": "3.7.12"
  },
  "papermill": {
   "default_parameters": {},
   "duration": 12.386277,
   "end_time": "2022-10-09T15:37:07.357789",
   "environment_variables": {},
   "exception": null,
   "input_path": "__notebook__.ipynb",
   "output_path": "__notebook__.ipynb",
   "parameters": {},
   "start_time": "2022-10-09T15:36:54.971512",
   "version": "2.3.4"
  }
 },
 "nbformat": 4,
 "nbformat_minor": 5
}
