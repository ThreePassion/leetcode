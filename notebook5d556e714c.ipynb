{
 "cells": [
  {
   "cell_type": "code",
   "execution_count": 1,
   "id": "f969eab6",
   "metadata": {
    "execution": {
     "iopub.execute_input": "2022-10-09T16:25:10.687204Z",
     "iopub.status.busy": "2022-10-09T16:25:10.686233Z",
     "iopub.status.idle": "2022-10-09T16:25:12.979585Z",
     "shell.execute_reply": "2022-10-09T16:25:12.977139Z"
    },
    "papermill": {
     "duration": 2.303297,
     "end_time": "2022-10-09T16:25:12.982593",
     "exception": false,
     "start_time": "2022-10-09T16:25:10.679296",
     "status": "completed"
    },
    "tags": []
   },
   "outputs": [
    {
     "name": "stdout",
     "output_type": "stream",
     "text": [
      "Cloning into 'Swin-Transformer'...\r\n",
      "remote: Enumerating objects: 381, done.\u001b[K\r\n",
      "remote: Counting objects: 100% (114/114), done.\u001b[K\r\n",
      "remote: Compressing objects: 100% (82/82), done.\u001b[K\r\n",
      "remote: Total 381 (delta 65), reused 66 (delta 31), pack-reused 267\u001b[K\r\n",
      "Receiving objects: 100% (381/381), 1.05 MiB | 4.43 MiB/s, done.\r\n",
      "Resolving deltas: 100% (215/215), done.\r\n"
     ]
    }
   ],
   "source": [
    "!git clone https://github.com/microsoft/Swin-Transformer.git"
   ]
  },
  {
   "cell_type": "code",
   "execution_count": null,
   "id": "1a31468f",
   "metadata": {
    "papermill": {
     "duration": 0.009712,
     "end_time": "2022-10-09T16:25:13.000677",
     "exception": false,
     "start_time": "2022-10-09T16:25:12.990965",
     "status": "completed"
    },
    "tags": []
   },
   "outputs": [],
   "source": []
  },
  {
   "cell_type": "code",
   "execution_count": null,
   "id": "cd16548f",
   "metadata": {
    "papermill": {
     "duration": 0.003671,
     "end_time": "2022-10-09T16:25:13.007816",
     "exception": false,
     "start_time": "2022-10-09T16:25:13.004145",
     "status": "completed"
    },
    "tags": []
   },
   "outputs": [],
   "source": []
  },
  {
   "cell_type": "code",
   "execution_count": 2,
   "id": "bc319a31",
   "metadata": {
    "execution": {
     "iopub.execute_input": "2022-10-09T16:25:13.020983Z",
     "iopub.status.busy": "2022-10-09T16:25:13.020587Z",
     "iopub.status.idle": "2022-10-09T16:25:14.094151Z",
     "shell.execute_reply": "2022-10-09T16:25:14.092727Z"
    },
    "papermill": {
     "duration": 1.085503,
     "end_time": "2022-10-09T16:25:14.096872",
     "exception": false,
     "start_time": "2022-10-09T16:25:13.011369",
     "status": "completed"
    },
    "tags": []
   },
   "outputs": [],
   "source": [
    "! cd ../input/datacasia1"
   ]
  },
  {
   "cell_type": "code",
   "execution_count": 3,
   "id": "221811d3",
   "metadata": {
    "execution": {
     "iopub.execute_input": "2022-10-09T16:25:14.106045Z",
     "iopub.status.busy": "2022-10-09T16:25:14.105239Z",
     "iopub.status.idle": "2022-10-09T16:25:16.715141Z",
     "shell.execute_reply": "2022-10-09T16:25:16.713787Z"
    },
    "papermill": {
     "duration": 2.617036,
     "end_time": "2022-10-09T16:25:16.717701",
     "exception": false,
     "start_time": "2022-10-09T16:25:14.100665",
     "status": "completed"
    },
    "tags": []
   },
   "outputs": [
    {
     "name": "stdout",
     "output_type": "stream",
     "text": [
      "\u001b[31mERROR: Could not find a version that satisfies the requirement pytorch==1.8.0 (from versions: 0.1.2, 1.0.2)\u001b[0m\u001b[31m\r\n",
      "\u001b[0m\u001b[31mERROR: No matching distribution found for pytorch==1.8.0\u001b[0m\u001b[31m\r\n",
      "\u001b[0m"
     ]
    }
   ],
   "source": [
    "!pip install pytorch==1.8.0 torchvision==0.9.0 cudatoolkit==10.2"
   ]
  },
  {
   "cell_type": "code",
   "execution_count": 4,
   "id": "6e3f4d05",
   "metadata": {
    "execution": {
     "iopub.execute_input": "2022-10-09T16:25:16.726422Z",
     "iopub.status.busy": "2022-10-09T16:25:16.726079Z",
     "iopub.status.idle": "2022-10-09T16:25:17.684679Z",
     "shell.execute_reply": "2022-10-09T16:25:17.683576Z"
    },
    "papermill": {
     "duration": 0.965592,
     "end_time": "2022-10-09T16:25:17.686993",
     "exception": false,
     "start_time": "2022-10-09T16:25:16.721401",
     "status": "completed"
    },
    "tags": []
   },
   "outputs": [
    {
     "name": "stdout",
     "output_type": "stream",
     "text": [
      "nvcc: NVIDIA (R) Cuda compiler driver\r\n",
      "Copyright (c) 2005-2020 NVIDIA Corporation\r\n",
      "Built on Wed_Jul_22_19:09:09_PDT_2020\r\n",
      "Cuda compilation tools, release 11.0, V11.0.221\r\n",
      "Build cuda_11.0_bu.TC445_37.28845127_0\r\n"
     ]
    }
   ],
   "source": [
    "! nvcc --version"
   ]
  },
  {
   "cell_type": "code",
   "execution_count": 5,
   "id": "28ac2c84",
   "metadata": {
    "execution": {
     "iopub.execute_input": "2022-10-09T16:25:17.695545Z",
     "iopub.status.busy": "2022-10-09T16:25:17.695185Z",
     "iopub.status.idle": "2022-10-09T16:27:28.581608Z",
     "shell.execute_reply": "2022-10-09T16:27:28.580414Z"
    },
    "papermill": {
     "duration": 130.893418,
     "end_time": "2022-10-09T16:27:28.584128",
     "exception": false,
     "start_time": "2022-10-09T16:25:17.690710",
     "status": "completed"
    },
    "tags": []
   },
   "outputs": [
    {
     "name": "stdout",
     "output_type": "stream",
     "text": [
      "Looking in indexes: https://pypi.org/simple, https://download.pytorch.org/whl/lts/1.8/cu111\r\n",
      "Collecting torch==1.8.2\r\n",
      "  Downloading https://download.pytorch.org/whl/lts/1.8/cu111/torch-1.8.2%2Bcu111-cp37-cp37m-linux_x86_64.whl (1982.2 MB)\r\n",
      "\u001b[2K     \u001b[90m━━━━━━━━━━━━━━━━━━━━━━━━━━━━━━━━━━━━━━━━\u001b[0m \u001b[32m2.0/2.0 GB\u001b[0m \u001b[31m549.8 kB/s\u001b[0m eta \u001b[36m0:00:00\u001b[0m\r\n",
      "\u001b[?25hCollecting torchvision==0.9.2\r\n",
      "  Downloading https://download.pytorch.org/whl/lts/1.8/cu111/torchvision-0.9.2%2Bcu111-cp37-cp37m-linux_x86_64.whl (17.5 MB)\r\n",
      "\u001b[2K     \u001b[90m━━━━━━━━━━━━━━━━━━━━━━━━━━━━━━━━━━━━━━━━\u001b[0m \u001b[32m17.5/17.5 MB\u001b[0m \u001b[31m34.8 MB/s\u001b[0m eta \u001b[36m0:00:00\u001b[0m\r\n",
      "\u001b[?25hCollecting torchaudio==0.8.2\r\n",
      "  Downloading https://download.pytorch.org/whl/lts/1.8/torchaudio-0.8.2-cp37-cp37m-linux_x86_64.whl (1.9 MB)\r\n",
      "\u001b[2K     \u001b[90m━━━━━━━━━━━━━━━━━━━━━━━━━━━━━━━━━━━━━━━━\u001b[0m \u001b[32m1.9/1.9 MB\u001b[0m \u001b[31m16.8 MB/s\u001b[0m eta \u001b[36m0:00:00\u001b[0m\r\n",
      "\u001b[?25hRequirement already satisfied: numpy in /opt/conda/lib/python3.7/site-packages (from torch==1.8.2) (1.21.6)\r\n",
      "Requirement already satisfied: typing-extensions in /opt/conda/lib/python3.7/site-packages (from torch==1.8.2) (4.3.0)\r\n",
      "Requirement already satisfied: pillow>=4.1.1 in /opt/conda/lib/python3.7/site-packages (from torchvision==0.9.2) (9.1.1)\r\n",
      "Installing collected packages: torch, torchvision, torchaudio\r\n",
      "  Attempting uninstall: torch\r\n",
      "    Found existing installation: torch 1.11.0\r\n",
      "    Uninstalling torch-1.11.0:\r\n",
      "      Successfully uninstalled torch-1.11.0\r\n",
      "  Attempting uninstall: torchvision\r\n",
      "    Found existing installation: torchvision 0.12.0\r\n",
      "    Uninstalling torchvision-0.12.0:\r\n",
      "      Successfully uninstalled torchvision-0.12.0\r\n",
      "  Attempting uninstall: torchaudio\r\n",
      "    Found existing installation: torchaudio 0.11.0\r\n",
      "    Uninstalling torchaudio-0.11.0:\r\n",
      "      Successfully uninstalled torchaudio-0.11.0\r\n",
      "\u001b[31mERROR: pip's dependency resolver does not currently take into account all the packages that are installed. This behaviour is the source of the following dependency conflicts.\r\n",
      "pytorch-lightning 1.7.6 requires torch>=1.9.*, but you have torch 1.8.2+cu111 which is incompatible.\r\n",
      "allennlp 2.10.0 requires protobuf==3.20.0, but you have protobuf 3.19.4 which is incompatible.\r\n",
      "allennlp 2.10.0 requires torch<1.12.0,>=1.10.0, but you have torch 1.8.2+cu111 which is incompatible.\u001b[0m\u001b[31m\r\n",
      "\u001b[0mSuccessfully installed torch-1.8.2+cu111 torchaudio-0.8.2 torchvision-0.9.2+cu111\r\n",
      "\u001b[33mWARNING: Running pip as the 'root' user can result in broken permissions and conflicting behaviour with the system package manager. It is recommended to use a virtual environment instead: https://pip.pypa.io/warnings/venv\u001b[0m\u001b[33m\r\n",
      "\u001b[0m"
     ]
    }
   ],
   "source": [
    "! pip install torch==1.8.2 torchvision==0.9.2 torchaudio==0.8.2 --extra-index-url https://download.pytorch.org/whl/lts/1.8/cu111"
   ]
  },
  {
   "cell_type": "code",
   "execution_count": 6,
   "id": "985a0fb8",
   "metadata": {
    "execution": {
     "iopub.execute_input": "2022-10-09T16:27:28.699068Z",
     "iopub.status.busy": "2022-10-09T16:27:28.698724Z",
     "iopub.status.idle": "2022-10-09T16:27:41.008955Z",
     "shell.execute_reply": "2022-10-09T16:27:41.007818Z"
    },
    "papermill": {
     "duration": 12.370815,
     "end_time": "2022-10-09T16:27:41.011520",
     "exception": false,
     "start_time": "2022-10-09T16:27:28.640705",
     "status": "completed"
    },
    "tags": []
   },
   "outputs": [
    {
     "name": "stdout",
     "output_type": "stream",
     "text": [
      "Collecting timm==0.4.12\r\n",
      "  Downloading timm-0.4.12-py3-none-any.whl (376 kB)\r\n",
      "\u001b[2K     \u001b[90m━━━━━━━━━━━━━━━━━━━━━━━━━━━━━━━━━━━━━\u001b[0m \u001b[32m377.0/377.0 kB\u001b[0m \u001b[31m595.3 kB/s\u001b[0m eta \u001b[36m0:00:00\u001b[0m\r\n",
      "\u001b[?25hRequirement already satisfied: torch>=1.4 in /opt/conda/lib/python3.7/site-packages (from timm==0.4.12) (1.8.2+cu111)\r\n",
      "Requirement already satisfied: torchvision in /opt/conda/lib/python3.7/site-packages (from timm==0.4.12) (0.9.2+cu111)\r\n",
      "Requirement already satisfied: numpy in /opt/conda/lib/python3.7/site-packages (from torch>=1.4->timm==0.4.12) (1.21.6)\r\n",
      "Requirement already satisfied: typing-extensions in /opt/conda/lib/python3.7/site-packages (from torch>=1.4->timm==0.4.12) (4.3.0)\r\n",
      "Requirement already satisfied: pillow>=4.1.1 in /opt/conda/lib/python3.7/site-packages (from torchvision->timm==0.4.12) (9.1.1)\r\n",
      "Installing collected packages: timm\r\n",
      "Successfully installed timm-0.4.12\r\n",
      "\u001b[33mWARNING: Running pip as the 'root' user can result in broken permissions and conflicting behaviour with the system package manager. It is recommended to use a virtual environment instead: https://pip.pypa.io/warnings/venv\u001b[0m\u001b[33m\r\n",
      "\u001b[0m"
     ]
    }
   ],
   "source": [
    "! pip install timm==0.4.12"
   ]
  },
  {
   "cell_type": "code",
   "execution_count": 7,
   "id": "43913928",
   "metadata": {
    "execution": {
     "iopub.execute_input": "2022-10-09T16:27:41.126833Z",
     "iopub.status.busy": "2022-10-09T16:27:41.126492Z",
     "iopub.status.idle": "2022-10-09T16:27:55.231433Z",
     "shell.execute_reply": "2022-10-09T16:27:55.230284Z"
    },
    "papermill": {
     "duration": 14.165844,
     "end_time": "2022-10-09T16:27:55.234487",
     "exception": false,
     "start_time": "2022-10-09T16:27:41.068643",
     "status": "completed"
    },
    "tags": []
   },
   "outputs": [
    {
     "name": "stdout",
     "output_type": "stream",
     "text": [
      "Collecting opencv-python==4.4.0.46\r\n",
      "  Downloading opencv_python-4.4.0.46-cp37-cp37m-manylinux2014_x86_64.whl (49.5 MB)\r\n",
      "\u001b[2K     \u001b[90m━━━━━━━━━━━━━━━━━━━━━━━━━━━━━━━━━━━━━━━━\u001b[0m \u001b[32m49.5/49.5 MB\u001b[0m \u001b[31m20.0 MB/s\u001b[0m eta \u001b[36m0:00:00\u001b[0m\r\n",
      "\u001b[?25hRequirement already satisfied: termcolor==1.1.0 in /opt/conda/lib/python3.7/site-packages (1.1.0)\r\n",
      "Requirement already satisfied: yacs==0.1.8 in /opt/conda/lib/python3.7/site-packages (0.1.8)\r\n",
      "Requirement already satisfied: pyyaml in /opt/conda/lib/python3.7/site-packages (6.0)\r\n",
      "Requirement already satisfied: scipy in /opt/conda/lib/python3.7/site-packages (1.7.3)\r\n",
      "Requirement already satisfied: numpy>=1.14.5 in /opt/conda/lib/python3.7/site-packages (from opencv-python==4.4.0.46) (1.21.6)\r\n",
      "Installing collected packages: opencv-python\r\n",
      "  Attempting uninstall: opencv-python\r\n",
      "    Found existing installation: opencv-python 4.5.4.60\r\n",
      "    Uninstalling opencv-python-4.5.4.60:\r\n",
      "      Successfully uninstalled opencv-python-4.5.4.60\r\n",
      "Successfully installed opencv-python-4.4.0.46\r\n",
      "\u001b[33mWARNING: Running pip as the 'root' user can result in broken permissions and conflicting behaviour with the system package manager. It is recommended to use a virtual environment instead: https://pip.pypa.io/warnings/venv\u001b[0m\u001b[33m\r\n",
      "\u001b[0m"
     ]
    }
   ],
   "source": [
    "! pip install opencv-python==4.4.0.46 termcolor==1.1.0 yacs==0.1.8 pyyaml scipy"
   ]
  },
  {
   "cell_type": "code",
   "execution_count": 8,
   "id": "469ce643",
   "metadata": {
    "execution": {
     "iopub.execute_input": "2022-10-09T16:27:55.355739Z",
     "iopub.status.busy": "2022-10-09T16:27:55.355388Z",
     "iopub.status.idle": "2022-10-09T16:27:57.220006Z",
     "shell.execute_reply": "2022-10-09T16:27:57.218841Z"
    },
    "papermill": {
     "duration": 1.927623,
     "end_time": "2022-10-09T16:27:57.222356",
     "exception": false,
     "start_time": "2022-10-09T16:27:55.294733",
     "status": "completed"
    },
    "tags": []
   },
   "outputs": [
    {
     "name": "stdout",
     "output_type": "stream",
     "text": [
      "Swin-Transformer  __notebook__.ipynb\r\n"
     ]
    }
   ],
   "source": [
    "! cd Swin-Transformer/kernels/window_process\n",
    "! ls\n"
   ]
  },
  {
   "cell_type": "code",
   "execution_count": 9,
   "id": "fb5d6963",
   "metadata": {
    "execution": {
     "iopub.execute_input": "2022-10-09T16:27:57.344549Z",
     "iopub.status.busy": "2022-10-09T16:27:57.343517Z",
     "iopub.status.idle": "2022-10-09T16:27:58.504219Z",
     "shell.execute_reply": "2022-10-09T16:27:58.502948Z"
    },
    "papermill": {
     "duration": 1.223838,
     "end_time": "2022-10-09T16:27:58.506722",
     "exception": false,
     "start_time": "2022-10-09T16:27:57.282884",
     "status": "completed"
    },
    "tags": []
   },
   "outputs": [
    {
     "name": "stdout",
     "output_type": "stream",
     "text": [
      "python: can't open file 'setup.py': [Errno 2] No such file or directory\r\n"
     ]
    }
   ],
   "source": [
    "!python setup.py install"
   ]
  },
  {
   "cell_type": "code",
   "execution_count": 10,
   "id": "9efe266c",
   "metadata": {
    "execution": {
     "iopub.execute_input": "2022-10-09T16:27:58.667960Z",
     "iopub.status.busy": "2022-10-09T16:27:58.667567Z",
     "iopub.status.idle": "2022-10-09T16:28:01.761526Z",
     "shell.execute_reply": "2022-10-09T16:28:01.760298Z"
    },
    "papermill": {
     "duration": 3.160006,
     "end_time": "2022-10-09T16:28:01.763991",
     "exception": false,
     "start_time": "2022-10-09T16:27:58.603985",
     "status": "completed"
    },
    "tags": []
   },
   "outputs": [
    {
     "name": "stdout",
     "output_type": "stream",
     "text": [
      "/opt/conda/bin/python: can't open file 'main.py': [Errno 2] No such file or directory\r\n",
      "Killing subprocess 191\r\n",
      "Traceback (most recent call last):\r\n",
      "  File \"/opt/conda/lib/python3.7/runpy.py\", line 193, in _run_module_as_main\r\n",
      "    \"__main__\", mod_spec)\r\n",
      "  File \"/opt/conda/lib/python3.7/runpy.py\", line 85, in _run_code\r\n",
      "    exec(code, run_globals)\r\n",
      "  File \"/opt/conda/lib/python3.7/site-packages/torch/distributed/launch.py\", line 340, in <module>\r\n",
      "    main()\r\n",
      "  File \"/opt/conda/lib/python3.7/site-packages/torch/distributed/launch.py\", line 326, in main\r\n",
      "    sigkill_handler(signal.SIGTERM, None)  # not coming back\r\n",
      "  File \"/opt/conda/lib/python3.7/site-packages/torch/distributed/launch.py\", line 301, in sigkill_handler\r\n",
      "    raise subprocess.CalledProcessError(returncode=last_return_code, cmd=cmd)\r\n",
      "subprocess.CalledProcessError: Command '['/opt/conda/bin/python', '-u', 'main.py', '--local_rank=0', '--eval', '--cfg', 'configs/swin/swin_base_patch4_window7_224.yaml', '--data-path', '../../input/datacasia1/CASIA1', '--batch-size', '10']' returned non-zero exit status 2.\r\n"
     ]
    }
   ],
   "source": [
    "! python -m torch.distributed.launch --nproc_per_node 1 --master_port 12345 main.py --eval --cfg configs/swin/swin_base_patch4_window7_224.yaml --data-path ../../input/datacasia1/CASIA1 --batch-size 10"
   ]
  }
 ],
 "metadata": {
  "kernelspec": {
   "display_name": "Python 3",
   "language": "python",
   "name": "python3"
  },
  "language_info": {
   "codemirror_mode": {
    "name": "ipython",
    "version": 3
   },
   "file_extension": ".py",
   "mimetype": "text/x-python",
   "name": "python",
   "nbconvert_exporter": "python",
   "pygments_lexer": "ipython3",
   "version": "3.7.12"
  },
  "papermill": {
   "default_parameters": {},
   "duration": 179.170302,
   "end_time": "2022-10-09T16:28:02.348801",
   "environment_variables": {},
   "exception": null,
   "input_path": "__notebook__.ipynb",
   "output_path": "__notebook__.ipynb",
   "parameters": {},
   "start_time": "2022-10-09T16:25:03.178499",
   "version": "2.3.4"
  }
 },
 "nbformat": 4,
 "nbformat_minor": 5
}
